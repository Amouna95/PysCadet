{
 "cells": [
  {
   "cell_type": "markdown",
   "id": "011c7e17",
   "metadata": {},
   "source": [
    "Importation du fichier de donnée retraité durant l'étape de datavisualisation"
   ]
  },
  {
   "cell_type": "code",
   "execution_count": 5,
   "id": "a4c04dfd",
   "metadata": {},
   "outputs": [
    {
     "data": {
      "text/html": [
       "<div>\n",
       "<style scoped>\n",
       "    .dataframe tbody tr th:only-of-type {\n",
       "        vertical-align: middle;\n",
       "    }\n",
       "\n",
       "    .dataframe tbody tr th {\n",
       "        vertical-align: top;\n",
       "    }\n",
       "\n",
       "    .dataframe thead th {\n",
       "        text-align: right;\n",
       "    }\n",
       "</style>\n",
       "<table border=\"1\" class=\"dataframe\">\n",
       "  <thead>\n",
       "    <tr style=\"text-align: right;\">\n",
       "      <th></th>\n",
       "      <th>Unnamed: 0</th>\n",
       "      <th>Commentaire</th>\n",
       "      <th>star</th>\n",
       "      <th>date</th>\n",
       "      <th>client</th>\n",
       "      <th>reponse</th>\n",
       "      <th>source</th>\n",
       "      <th>company</th>\n",
       "      <th>ville</th>\n",
       "      <th>date_commande</th>\n",
       "      <th>ecart</th>\n",
       "      <th>Language</th>\n",
       "      <th>Commentaires_reduit</th>\n",
       "      <th>com_nb_mots</th>\n",
       "      <th>Commentaires_reduit_racine</th>\n",
       "      <th>Commentaires_reduit_4mots</th>\n",
       "    </tr>\n",
       "  </thead>\n",
       "  <tbody>\n",
       "    <tr>\n",
       "      <th>0</th>\n",
       "      <td>0</td>\n",
       "      <td>Bonjour , Ca doit faire 5 ans environ que je s...</td>\n",
       "      <td>1</td>\n",
       "      <td>2021-06-20 00:00:00+00:00</td>\n",
       "      <td>AUDREY Du 62</td>\n",
       "      <td>NaN</td>\n",
       "      <td>TrustPilot</td>\n",
       "      <td>ShowRoom</td>\n",
       "      <td>NaN</td>\n",
       "      <td>NaN</td>\n",
       "      <td>NaN</td>\n",
       "      <td>fr</td>\n",
       "      <td>bonjour , ca doit 5 ans environ membre showroo...</td>\n",
       "      <td>246</td>\n",
       "      <td>bonjour , ca doit 5 an environ membr showroopr...</td>\n",
       "      <td>bonjour doit environ membre showrooprive jamai...</td>\n",
       "    </tr>\n",
       "    <tr>\n",
       "      <th>1</th>\n",
       "      <td>1</td>\n",
       "      <td>Vente lacoste article manquant photo prise sur...</td>\n",
       "      <td>1</td>\n",
       "      <td>2021-06-20 00:00:00+00:00</td>\n",
       "      <td>Nanasky De Verteuil</td>\n",
       "      <td>NaN</td>\n",
       "      <td>TrustPilot</td>\n",
       "      <td>ShowRoom</td>\n",
       "      <td>NaN</td>\n",
       "      <td>NaN</td>\n",
       "      <td>NaN</td>\n",
       "      <td>fr</td>\n",
       "      <td>vente lacoste manquant photo prise 6 articles ...</td>\n",
       "      <td>20</td>\n",
       "      <td>vent lacost manqu photo pris 6 articl moiti li...</td>\n",
       "      <td>vente lacoste manquant photo prise articles mo...</td>\n",
       "    </tr>\n",
       "    <tr>\n",
       "      <th>2</th>\n",
       "      <td>2</td>\n",
       "      <td>Vente Lacoste Honteuse , article erroné , arti...</td>\n",
       "      <td>1</td>\n",
       "      <td>2021-06-19 00:00:00+00:00</td>\n",
       "      <td>Vanessa L</td>\n",
       "      <td>NaN</td>\n",
       "      <td>TrustPilot</td>\n",
       "      <td>ShowRoom</td>\n",
       "      <td>NaN</td>\n",
       "      <td>NaN</td>\n",
       "      <td>NaN</td>\n",
       "      <td>fr</td>\n",
       "      <td>vente lacoste honteuse , erroné , manquant , b...</td>\n",
       "      <td>219</td>\n",
       "      <td>vent lacost honteux , erron , manqu , bon livr...</td>\n",
       "      <td>vente lacoste honteuse erroné manquant livrais...</td>\n",
       "    </tr>\n",
       "    <tr>\n",
       "      <th>3</th>\n",
       "      <td>3</td>\n",
       "      <td>J'ai commandé des mules de la marque Moosefiel...</td>\n",
       "      <td>2</td>\n",
       "      <td>2021-06-19 00:00:00+00:00</td>\n",
       "      <td>Valery PERRAULT</td>\n",
       "      <td>Bonjour , Je suis sincèrement navré d'apprendr...</td>\n",
       "      <td>TrustPilot</td>\n",
       "      <td>ShowRoom</td>\n",
       "      <td>NaN</td>\n",
       "      <td>NaN</td>\n",
       "      <td>NaN</td>\n",
       "      <td>fr</td>\n",
       "      <td>commandé mules marque moosefield , très déçue ...</td>\n",
       "      <td>29</td>\n",
       "      <td>command mul marqu moosefield , tres déçu produ...</td>\n",
       "      <td>commandé mules marque moosefield produit étiqu...</td>\n",
       "    </tr>\n",
       "    <tr>\n",
       "      <th>4</th>\n",
       "      <td>4</td>\n",
       "      <td>Commande téléphone etat A+ . Livraison d un vi...</td>\n",
       "      <td>1</td>\n",
       "      <td>2021-06-19 00:00:00+00:00</td>\n",
       "      <td>JULIE DRINGENBERG</td>\n",
       "      <td>Bonjour Julie , Je suis sincèrement désolé de ...</td>\n",
       "      <td>TrustPilot</td>\n",
       "      <td>ShowRoom</td>\n",
       "      <td>NaN</td>\n",
       "      <td>NaN</td>\n",
       "      <td>NaN</td>\n",
       "      <td>fr</td>\n",
       "      <td>téléphone etat a+ . livraison vieux téléphone ...</td>\n",
       "      <td>52</td>\n",
       "      <td>téléphon etat a+ . livraison vieux téléphon po...</td>\n",
       "      <td>téléphone etat livraison vieux téléphone pourr...</td>\n",
       "    </tr>\n",
       "  </tbody>\n",
       "</table>\n",
       "</div>"
      ],
      "text/plain": [
       "   Unnamed: 0                                        Commentaire  star  \\\n",
       "0           0  Bonjour , Ca doit faire 5 ans environ que je s...     1   \n",
       "1           1  Vente lacoste article manquant photo prise sur...     1   \n",
       "2           2  Vente Lacoste Honteuse , article erroné , arti...     1   \n",
       "3           3  J'ai commandé des mules de la marque Moosefiel...     2   \n",
       "4           4  Commande téléphone etat A+ . Livraison d un vi...     1   \n",
       "\n",
       "                        date               client  \\\n",
       "0  2021-06-20 00:00:00+00:00         AUDREY Du 62   \n",
       "1  2021-06-20 00:00:00+00:00  Nanasky De Verteuil   \n",
       "2  2021-06-19 00:00:00+00:00            Vanessa L   \n",
       "3  2021-06-19 00:00:00+00:00      Valery PERRAULT   \n",
       "4  2021-06-19 00:00:00+00:00    JULIE DRINGENBERG   \n",
       "\n",
       "                                             reponse      source   company  \\\n",
       "0                                                NaN  TrustPilot  ShowRoom   \n",
       "1                                                NaN  TrustPilot  ShowRoom   \n",
       "2                                                NaN  TrustPilot  ShowRoom   \n",
       "3  Bonjour , Je suis sincèrement navré d'apprendr...  TrustPilot  ShowRoom   \n",
       "4  Bonjour Julie , Je suis sincèrement désolé de ...  TrustPilot  ShowRoom   \n",
       "\n",
       "  ville date_commande  ecart Language  \\\n",
       "0   NaN           NaN    NaN       fr   \n",
       "1   NaN           NaN    NaN       fr   \n",
       "2   NaN           NaN    NaN       fr   \n",
       "3   NaN           NaN    NaN       fr   \n",
       "4   NaN           NaN    NaN       fr   \n",
       "\n",
       "                                 Commentaires_reduit  com_nb_mots  \\\n",
       "0  bonjour , ca doit 5 ans environ membre showroo...          246   \n",
       "1  vente lacoste manquant photo prise 6 articles ...           20   \n",
       "2  vente lacoste honteuse , erroné , manquant , b...          219   \n",
       "3  commandé mules marque moosefield , très déçue ...           29   \n",
       "4  téléphone etat a+ . livraison vieux téléphone ...           52   \n",
       "\n",
       "                          Commentaires_reduit_racine  \\\n",
       "0  bonjour , ca doit 5 an environ membr showroopr...   \n",
       "1  vent lacost manqu photo pris 6 articl moiti li...   \n",
       "2  vent lacost honteux , erron , manqu , bon livr...   \n",
       "3  command mul marqu moosefield , tres déçu produ...   \n",
       "4  téléphon etat a+ . livraison vieux téléphon po...   \n",
       "\n",
       "                           Commentaires_reduit_4mots  \n",
       "0  bonjour doit environ membre showrooprive jamai...  \n",
       "1  vente lacoste manquant photo prise articles mo...  \n",
       "2  vente lacoste honteuse erroné manquant livrais...  \n",
       "3  commandé mules marque moosefield produit étiqu...  \n",
       "4  téléphone etat livraison vieux téléphone pourr...  "
      ]
     },
     "execution_count": 5,
     "metadata": {},
     "output_type": "execute_result"
    }
   ],
   "source": [
    "import pandas as pd\n",
    "\n",
    "df = pd.read_csv(\"Data Satisfaction - Dan processed.csv\")\n",
    "\n",
    "df.head()"
   ]
  },
  {
   "cell_type": "markdown",
   "id": "98c90c4d",
   "metadata": {},
   "source": [
    "Retraitement du fichier:\n",
    "\n",
    "- Attribution valeur 1 ou 0 suivant la présence de données ou de NAN pour les colonnes client, ville et réponse\n",
    "- suppression de la colonne langue, ansin que de la colonne Unnamed:0"
   ]
  },
  {
   "cell_type": "code",
   "execution_count": 9,
   "id": "7f9c97ee",
   "metadata": {},
   "outputs": [],
   "source": [
    "df = df.drop([\"Unnamed: 0\",\"Language\"],axis =1)"
   ]
  },
  {
   "cell_type": "code",
   "execution_count": 10,
   "id": "d9c5f4e7",
   "metadata": {},
   "outputs": [],
   "source": [
    "df[\"client\"] = df[\"client\"].isna().replace(to_replace =[False,True], value=[1,0])\n",
    "df[\"ville\"] = df[\"ville\"].isna().replace(to_replace =[False,True], value=[1,0])\n",
    "df[\"reponse\"] = df[\"reponse\"].isna().replace(to_replace =[False,True], value=[1,0])"
   ]
  },
  {
   "cell_type": "markdown",
   "id": "2513c947",
   "metadata": {},
   "source": [
    "- Attribution de valeur numérique pour les colonnes source et company"
   ]
  },
  {
   "cell_type": "code",
   "execution_count": 11,
   "id": "b9b33b18",
   "metadata": {},
   "outputs": [],
   "source": [
    "df[\"source\"] = df[\"source\"].isna().replace(to_replace =[\"TrustPilot\",\"TrustedShop\"], value=[1,0])\n",
    "df[\"company\"] = df[\"company\"].isna().replace(to_replace =[\"ShowRoom\",\"VeePee\"], value=[1,0])"
   ]
  },
  {
   "cell_type": "markdown",
   "id": "c4b3025e",
   "metadata": {},
   "source": [
    "### Modelisation 1\n",
    "#### Vectorisation de la colonne commentaire réduit 4 mots avec les mots revenant au moins 100 fois dans les commentaires\n",
    "#### La notions de date ne sera pas pris en compte pour des raisons de facilités."
   ]
  },
  {
   "cell_type": "markdown",
   "id": "71e01e48",
   "metadata": {},
   "source": [
    "- Suppression des colonnes commentaires autre que \"commentaires_réduit_4mots\"\n",
    "- Suppression des colonnes relatives aux dates ainsi que la colonnes \"écart\"."
   ]
  },
  {
   "cell_type": "code",
   "execution_count": 13,
   "id": "65a290b2",
   "metadata": {},
   "outputs": [],
   "source": [
    "df1 = df.drop([\"Commentaire\",\"date\",\"date_commande\",\"ecart\",\"Commentaires_reduit\",\"Commentaires_reduit_racine\"],axis =1)"
   ]
  },
  {
   "cell_type": "code",
   "execution_count": 14,
   "id": "33d674d7",
   "metadata": {},
   "outputs": [
    {
     "data": {
      "text/html": [
       "<div>\n",
       "<style scoped>\n",
       "    .dataframe tbody tr th:only-of-type {\n",
       "        vertical-align: middle;\n",
       "    }\n",
       "\n",
       "    .dataframe tbody tr th {\n",
       "        vertical-align: top;\n",
       "    }\n",
       "\n",
       "    .dataframe thead th {\n",
       "        text-align: right;\n",
       "    }\n",
       "</style>\n",
       "<table border=\"1\" class=\"dataframe\">\n",
       "  <thead>\n",
       "    <tr style=\"text-align: right;\">\n",
       "      <th></th>\n",
       "      <th>star</th>\n",
       "      <th>client</th>\n",
       "      <th>reponse</th>\n",
       "      <th>source</th>\n",
       "      <th>company</th>\n",
       "      <th>ville</th>\n",
       "      <th>com_nb_mots</th>\n",
       "      <th>Commentaires_reduit_4mots</th>\n",
       "    </tr>\n",
       "  </thead>\n",
       "  <tbody>\n",
       "    <tr>\n",
       "      <th>0</th>\n",
       "      <td>1</td>\n",
       "      <td>1</td>\n",
       "      <td>0</td>\n",
       "      <td>False</td>\n",
       "      <td>False</td>\n",
       "      <td>0</td>\n",
       "      <td>246</td>\n",
       "      <td>bonjour doit environ membre showrooprive jamai...</td>\n",
       "    </tr>\n",
       "    <tr>\n",
       "      <th>1</th>\n",
       "      <td>1</td>\n",
       "      <td>1</td>\n",
       "      <td>0</td>\n",
       "      <td>False</td>\n",
       "      <td>False</td>\n",
       "      <td>0</td>\n",
       "      <td>20</td>\n",
       "      <td>vente lacoste manquant photo prise articles mo...</td>\n",
       "    </tr>\n",
       "    <tr>\n",
       "      <th>2</th>\n",
       "      <td>1</td>\n",
       "      <td>1</td>\n",
       "      <td>0</td>\n",
       "      <td>False</td>\n",
       "      <td>False</td>\n",
       "      <td>0</td>\n",
       "      <td>219</td>\n",
       "      <td>vente lacoste honteuse erroné manquant livrais...</td>\n",
       "    </tr>\n",
       "    <tr>\n",
       "      <th>3</th>\n",
       "      <td>2</td>\n",
       "      <td>1</td>\n",
       "      <td>1</td>\n",
       "      <td>False</td>\n",
       "      <td>False</td>\n",
       "      <td>0</td>\n",
       "      <td>29</td>\n",
       "      <td>commandé mules marque moosefield produit étiqu...</td>\n",
       "    </tr>\n",
       "    <tr>\n",
       "      <th>4</th>\n",
       "      <td>1</td>\n",
       "      <td>1</td>\n",
       "      <td>1</td>\n",
       "      <td>False</td>\n",
       "      <td>False</td>\n",
       "      <td>0</td>\n",
       "      <td>52</td>\n",
       "      <td>téléphone etat livraison vieux téléphone pourr...</td>\n",
       "    </tr>\n",
       "  </tbody>\n",
       "</table>\n",
       "</div>"
      ],
      "text/plain": [
       "   star  client  reponse  source  company  ville  com_nb_mots  \\\n",
       "0     1       1        0   False    False      0          246   \n",
       "1     1       1        0   False    False      0           20   \n",
       "2     1       1        0   False    False      0          219   \n",
       "3     2       1        1   False    False      0           29   \n",
       "4     1       1        1   False    False      0           52   \n",
       "\n",
       "                           Commentaires_reduit_4mots  \n",
       "0  bonjour doit environ membre showrooprive jamai...  \n",
       "1  vente lacoste manquant photo prise articles mo...  \n",
       "2  vente lacoste honteuse erroné manquant livrais...  \n",
       "3  commandé mules marque moosefield produit étiqu...  \n",
       "4  téléphone etat livraison vieux téléphone pourr...  "
      ]
     },
     "execution_count": 14,
     "metadata": {},
     "output_type": "execute_result"
    }
   ],
   "source": [
    "df1.head()"
   ]
  },
  {
   "cell_type": "code",
   "execution_count": 30,
   "id": "97a5a321",
   "metadata": {},
   "outputs": [
    {
     "data": {
      "text/plain": [
       "star                          0\n",
       "client                        0\n",
       "reponse                       0\n",
       "source                        0\n",
       "company                       0\n",
       "ville                         0\n",
       "com_nb_mots                   0\n",
       "Commentaires_reduit_4mots    35\n",
       "dtype: int64"
      ]
     },
     "execution_count": 30,
     "metadata": {},
     "output_type": "execute_result"
    }
   ],
   "source": [
    "df1.isna().sum()"
   ]
  },
  {
   "cell_type": "code",
   "execution_count": 32,
   "id": "a5b206b9",
   "metadata": {},
   "outputs": [],
   "source": [
    "df1 = df1.dropna(axis = 0, how = \"all\", subset =[\"Commentaires_reduit_4mots\"])"
   ]
  },
  {
   "cell_type": "code",
   "execution_count": 33,
   "id": "a7e3a04c",
   "metadata": {},
   "outputs": [],
   "source": [
    "from collections import Counter\n",
    "chaine = ' '.join(str(i).lower() for i in df1.Commentaires_reduit_4mots)\n",
    "dico = Counter(chaine.split())\n",
    "freqmots = pd.DataFrame.from_dict(dico, orient=\"index\", columns = [\"iteration\"])\n",
    "freqmots = freqmots.sort_values(\"iteration\", ascending = False)\n",
    "freqmots2 = freqmots[freqmots[\"iteration\"] >= 100].reset_index()\n"
   ]
  },
  {
   "cell_type": "code",
   "execution_count": 34,
   "id": "5f9fa380",
   "metadata": {},
   "outputs": [
    {
     "data": {
      "text/html": [
       "<div>\n",
       "<style scoped>\n",
       "    .dataframe tbody tr th:only-of-type {\n",
       "        vertical-align: middle;\n",
       "    }\n",
       "\n",
       "    .dataframe tbody tr th {\n",
       "        vertical-align: top;\n",
       "    }\n",
       "\n",
       "    .dataframe thead th {\n",
       "        text-align: right;\n",
       "    }\n",
       "</style>\n",
       "<table border=\"1\" class=\"dataframe\">\n",
       "  <thead>\n",
       "    <tr style=\"text-align: right;\">\n",
       "      <th></th>\n",
       "      <th>index</th>\n",
       "      <th>iteration</th>\n",
       "    </tr>\n",
       "  </thead>\n",
       "  <tbody>\n",
       "    <tr>\n",
       "      <th>0</th>\n",
       "      <td>livraison</td>\n",
       "      <td>4945</td>\n",
       "    </tr>\n",
       "    <tr>\n",
       "      <th>1</th>\n",
       "      <td>plus</td>\n",
       "      <td>4814</td>\n",
       "    </tr>\n",
       "    <tr>\n",
       "      <th>2</th>\n",
       "      <td>colis</td>\n",
       "      <td>3400</td>\n",
       "    </tr>\n",
       "    <tr>\n",
       "      <th>3</th>\n",
       "      <td>site</td>\n",
       "      <td>3173</td>\n",
       "    </tr>\n",
       "    <tr>\n",
       "      <th>4</th>\n",
       "      <td>service</td>\n",
       "      <td>3161</td>\n",
       "    </tr>\n",
       "  </tbody>\n",
       "</table>\n",
       "</div>"
      ],
      "text/plain": [
       "       index  iteration\n",
       "0  livraison       4945\n",
       "1       plus       4814\n",
       "2      colis       3400\n",
       "3       site       3173\n",
       "4    service       3161"
      ]
     },
     "execution_count": 34,
     "metadata": {},
     "output_type": "execute_result"
    }
   ],
   "source": [
    "freqmots2.head()"
   ]
  },
  {
   "cell_type": "code",
   "execution_count": 42,
   "id": "13cb64c3",
   "metadata": {},
   "outputs": [],
   "source": [
    "from sklearn.feature_extraction.text import CountVectorizer\n",
    "vectorizer = CountVectorizer()\n",
    "vectorizer.fit_transform(freqmots2[\"index\"])\n",
    "tokenized = vectorizer.vocabulary_\n",
    "X = vectorizer.transform(df1[\"Commentaires_reduit_4mots\"]).todense()"
   ]
  },
  {
   "cell_type": "code",
   "execution_count": 43,
   "id": "e8fb00c1",
   "metadata": {},
   "outputs": [],
   "source": [
    "y = df1[\"star\"]"
   ]
  },
  {
   "cell_type": "code",
   "execution_count": 44,
   "id": "40411ff0",
   "metadata": {},
   "outputs": [],
   "source": [
    "from sklearn.model_selection import train_test_split\n",
    "X_train,X_test, y_train, y_test = train_test_split(X,y, test_size = 0.2)"
   ]
  },
  {
   "cell_type": "code",
   "execution_count": 46,
   "id": "b220122c",
   "metadata": {},
   "outputs": [
    {
     "name": "stderr",
     "output_type": "stream",
     "text": [
      "C:\\Users\\Michelle\\anaconda3\\lib\\site-packages\\sklearn\\utils\\validation.py:593: FutureWarning: np.matrix usage is deprecated in 1.0 and will raise a TypeError in 1.2. Please convert to a numpy array with np.asarray. For more information see: https://numpy.org/doc/stable/reference/generated/numpy.matrix.html\n",
      "  warnings.warn(\n",
      "C:\\Users\\Michelle\\anaconda3\\lib\\site-packages\\sklearn\\utils\\validation.py:593: FutureWarning: np.matrix usage is deprecated in 1.0 and will raise a TypeError in 1.2. Please convert to a numpy array with np.asarray. For more information see: https://numpy.org/doc/stable/reference/generated/numpy.matrix.html\n",
      "  warnings.warn(\n"
     ]
    }
   ],
   "source": [
    "from sklearn.ensemble import GradientBoostingClassifier\n",
    "\n",
    "clf = GradientBoostingClassifier(n_estimators=100, learning_rate=1.0, max_depth=1, random_state=0).fit(X_train, y_train)\n",
    "\n",
    "y_pred = clf.predict(X_test)"
   ]
  },
  {
   "cell_type": "code",
   "execution_count": 52,
   "id": "9681894e",
   "metadata": {},
   "outputs": [
    {
     "data": {
      "text/html": [
       "<div>\n",
       "<style scoped>\n",
       "    .dataframe tbody tr th:only-of-type {\n",
       "        vertical-align: middle;\n",
       "    }\n",
       "\n",
       "    .dataframe tbody tr th {\n",
       "        vertical-align: top;\n",
       "    }\n",
       "\n",
       "    .dataframe thead th {\n",
       "        text-align: right;\n",
       "    }\n",
       "</style>\n",
       "<table border=\"1\" class=\"dataframe\">\n",
       "  <thead>\n",
       "    <tr style=\"text-align: right;\">\n",
       "      <th>valeurs prédites</th>\n",
       "      <th>1</th>\n",
       "      <th>2</th>\n",
       "      <th>3</th>\n",
       "      <th>4</th>\n",
       "      <th>5</th>\n",
       "    </tr>\n",
       "    <tr>\n",
       "      <th>valeurs réelle</th>\n",
       "      <th></th>\n",
       "      <th></th>\n",
       "      <th></th>\n",
       "      <th></th>\n",
       "      <th></th>\n",
       "    </tr>\n",
       "  </thead>\n",
       "  <tbody>\n",
       "    <tr>\n",
       "      <th>1</th>\n",
       "      <td>748</td>\n",
       "      <td>27</td>\n",
       "      <td>29</td>\n",
       "      <td>56</td>\n",
       "      <td>74</td>\n",
       "    </tr>\n",
       "    <tr>\n",
       "      <th>2</th>\n",
       "      <td>104</td>\n",
       "      <td>6</td>\n",
       "      <td>39</td>\n",
       "      <td>41</td>\n",
       "      <td>54</td>\n",
       "    </tr>\n",
       "    <tr>\n",
       "      <th>3</th>\n",
       "      <td>53</td>\n",
       "      <td>11</td>\n",
       "      <td>43</td>\n",
       "      <td>122</td>\n",
       "      <td>110</td>\n",
       "    </tr>\n",
       "    <tr>\n",
       "      <th>4</th>\n",
       "      <td>27</td>\n",
       "      <td>8</td>\n",
       "      <td>25</td>\n",
       "      <td>184</td>\n",
       "      <td>349</td>\n",
       "    </tr>\n",
       "    <tr>\n",
       "      <th>5</th>\n",
       "      <td>24</td>\n",
       "      <td>5</td>\n",
       "      <td>7</td>\n",
       "      <td>83</td>\n",
       "      <td>1092</td>\n",
       "    </tr>\n",
       "  </tbody>\n",
       "</table>\n",
       "</div>"
      ],
      "text/plain": [
       "valeurs prédites    1   2   3    4     5\n",
       "valeurs réelle                          \n",
       "1                 748  27  29   56    74\n",
       "2                 104   6  39   41    54\n",
       "3                  53  11  43  122   110\n",
       "4                  27   8  25  184   349\n",
       "5                  24   5   7   83  1092"
      ]
     },
     "execution_count": 52,
     "metadata": {},
     "output_type": "execute_result"
    }
   ],
   "source": [
    "pd.crosstab(y_test,y_pred, rownames =[\"valeurs réelle\"] , colnames = [\"valeurs prédites\"])"
   ]
  },
  {
   "cell_type": "code",
   "execution_count": 54,
   "id": "53edfbbe",
   "metadata": {},
   "outputs": [
    {
     "name": "stderr",
     "output_type": "stream",
     "text": [
      "C:\\Users\\Michelle\\anaconda3\\lib\\site-packages\\sklearn\\utils\\validation.py:593: FutureWarning: np.matrix usage is deprecated in 1.0 and will raise a TypeError in 1.2. Please convert to a numpy array with np.asarray. For more information see: https://numpy.org/doc/stable/reference/generated/numpy.matrix.html\n",
      "  warnings.warn(\n"
     ]
    },
    {
     "data": {
      "text/plain": [
       "0.6242095754290876"
      ]
     },
     "execution_count": 54,
     "metadata": {},
     "output_type": "execute_result"
    }
   ],
   "source": [
    "clf.score(X_test,y_test)"
   ]
  }
 ],
 "metadata": {
  "kernelspec": {
   "display_name": "Python 3 (ipykernel)",
   "language": "python",
   "name": "python3"
  },
  "language_info": {
   "codemirror_mode": {
    "name": "ipython",
    "version": 3
   },
   "file_extension": ".py",
   "mimetype": "text/x-python",
   "name": "python",
   "nbconvert_exporter": "python",
   "pygments_lexer": "ipython3",
   "version": "3.9.12"
  }
 },
 "nbformat": 4,
 "nbformat_minor": 5
}
